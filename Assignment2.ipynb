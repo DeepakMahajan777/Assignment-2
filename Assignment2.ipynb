{
 "cells": [
  {
   "cell_type": "code",
   "execution_count": 1,
   "id": "0797e387-8cf5-4312-ac68-fc4ea7e9f104",
   "metadata": {},
   "outputs": [],
   "source": [
    "#Ans1. code is down below"
   ]
  },
  {
   "cell_type": "code",
   "execution_count": 4,
   "id": "1444b60a-92bc-43c2-aa2e-7a995df2f0dc",
   "metadata": {},
   "outputs": [
    {
     "name": "stdin",
     "output_type": "stream",
     "text": [
      "enter your marks- 90.5\n"
     ]
    },
    {
     "name": "stdout",
     "output_type": "stream",
     "text": [
      "grade = A\n"
     ]
    }
   ],
   "source": [
    "marks = float(input(\"enter your marks-\"))\n",
    "if marks > 90:\n",
    "    print(\"grade = A\")\n",
    "elif marks > 80 and marks <=90:\n",
    "    print(\"grade = B\")\n",
    "elif marks >= 60 and marks <= 80:\n",
    "    print(\"grade = C\")\n",
    "elif marks < 60:\n",
    "    print(\"grade = D\")"
   ]
  },
  {
   "cell_type": "code",
   "execution_count": 3,
   "id": "33f8d3d0-918b-480e-b7eb-cd8e3fe88d09",
   "metadata": {},
   "outputs": [],
   "source": [
    "# Ans 2. below"
   ]
  },
  {
   "cell_type": "code",
   "execution_count": 6,
   "id": "15ca2cdd-3834-4584-8e45-439b4ed8fcf5",
   "metadata": {},
   "outputs": [
    {
     "name": "stdin",
     "output_type": "stream",
     "text": [
      "Cost price of Bike =  1250000\n"
     ]
    },
    {
     "name": "stdout",
     "output_type": "stream",
     "text": [
      "tax to be paid is 15%\n"
     ]
    }
   ],
   "source": [
    "Cost_Price = float(input(\"Cost price of Bike = \"))\n",
    "if Cost_Price > 100000:\n",
    "    print(\"tax to be paid is 15%\")\n",
    "elif Cost_Price > 50000 and Cost_Price <= 100000:\n",
    "    print(\"tax to be paid is 10%\")\n",
    "elif Cost_Price <= 50000:\n",
    "    print(\"tax to be paid is 5%\")"
   ]
  },
  {
   "cell_type": "code",
   "execution_count": 7,
   "id": "b1d93773-c05f-4edd-ac0a-1703331eea38",
   "metadata": {},
   "outputs": [],
   "source": [
    "# Ans 3. below\n"
   ]
  },
  {
   "cell_type": "code",
   "execution_count": 2,
   "id": "2157eeb3-53c0-48c3-a956-5fd0acb8388d",
   "metadata": {},
   "outputs": [
    {
     "name": "stdin",
     "output_type": "stream",
     "text": [
      "Name of the City Delhi\n"
     ]
    },
    {
     "name": "stdout",
     "output_type": "stream",
     "text": [
      "Monument - Red Fort\n"
     ]
    }
   ],
   "source": [
    "City = input(\"Name of the City\")\n",
    "if City == \"Delhi\":\n",
    "    print(\"Monument - Red Fort\")\n",
    "elif City == \"Agra\":\n",
    "    print(\"Monument - Taj Mahal\")\n",
    "elif City == \"Jaipur\":\n",
    "    print(\"Monument - Jal Mahal\")\n",
    "else : print (\"Nothing to show\")"
   ]
  },
  {
   "cell_type": "code",
   "execution_count": 3,
   "id": "a7a9d5fc-e46b-4047-9080-2fbf3e1223b0",
   "metadata": {},
   "outputs": [],
   "source": [
    "# Ans 4. below"
   ]
  },
  {
   "cell_type": "code",
   "execution_count": 8,
   "id": "aa93f3a8-512f-4b56-9674-b5d6bd418d30",
   "metadata": {},
   "outputs": [
    {
     "name": "stdin",
     "output_type": "stream",
     "text": [
      "enter number 57\n"
     ]
    },
    {
     "name": "stdout",
     "output_type": "stream",
     "text": [
      "number can be divide by 3 2 times\n"
     ]
    }
   ],
   "source": [
    "def divide_by_3(num):\n",
    "    count = 0\n",
    "    while num > 10:\n",
    "        num = num/3\n",
    "        count = count + 1\n",
    "    return count\n",
    "\n",
    "num = int(input(\"enter number\"))\n",
    "result = divide_by_3(num)\n",
    "print(\"number can be divide by 3\", result, \"times\")"
   ]
  },
  {
   "cell_type": "code",
   "execution_count": 9,
   "id": "3838ff07-de36-4fe7-a626-62521597d86c",
   "metadata": {},
   "outputs": [],
   "source": [
    "# Ans 5. we use while loop in python to repeatedly execute a block of code till the condition given is true. once the codition gets false it stops.\n",
    "# example for while loop is below"
   ]
  },
  {
   "cell_type": "code",
   "execution_count": 10,
   "id": "6f665cbf-913a-4139-84f7-d1e04c1f9b9e",
   "metadata": {},
   "outputs": [
    {
     "name": "stdout",
     "output_type": "stream",
     "text": [
      "1\n",
      "2\n",
      "3\n",
      "4\n",
      "5\n",
      "6\n",
      "7\n",
      "8\n",
      "9\n",
      "10\n"
     ]
    }
   ],
   "source": [
    "a = 1\n",
    "while a <= 10:\n",
    "    print(a)\n",
    "    a = a + 1"
   ]
  },
  {
   "cell_type": "code",
   "execution_count": 11,
   "id": "22d82da9-e006-4b4e-90a3-948af5c79a09",
   "metadata": {},
   "outputs": [],
   "source": [
    "#Ans 6. nested while loop to print 3 different pattern."
   ]
  },
  {
   "cell_type": "code",
   "execution_count": 16,
   "id": "b160f6e2-36f2-4149-bcf2-f6173442841a",
   "metadata": {},
   "outputs": [
    {
     "name": "stdout",
     "output_type": "stream",
     "text": [
      "\n",
      "1 \n",
      "2 2 \n",
      "3 3 3 \n",
      "4 4 4 4 \n",
      "5 5 5 5 5 \n"
     ]
    }
   ],
   "source": [
    "rows = 6\n",
    "for i in range(rows):\n",
    "    for j in range(i):\n",
    "        print(i, end=' ')\n",
    "    print('')"
   ]
  },
  {
   "cell_type": "code",
   "execution_count": 20,
   "id": "d8265223-8e87-4318-a41f-bd116d5a8f55",
   "metadata": {},
   "outputs": [
    {
     "name": "stdout",
     "output_type": "stream",
     "text": [
      "1 \n",
      "1 2 \n",
      "1 2 3 \n",
      "1 2 3 4 \n",
      "1 2 3 4 5 \n"
     ]
    }
   ],
   "source": [
    "rows = 5\n",
    "for i in range(1, rows + 1):\n",
    "    for j in range(1, i + 1):\n",
    "        print(j, end=' ')\n",
    "    print('')"
   ]
  },
  {
   "cell_type": "code",
   "execution_count": 22,
   "id": "217e89b9-8900-4c99-937e-29ef758b6ded",
   "metadata": {},
   "outputs": [
    {
     "name": "stdout",
     "output_type": "stream",
     "text": [
      "5 5 5 5 5 \n",
      "5 5 5 5 \n",
      "5 5 5 \n",
      "5 5 \n",
      "5 \n"
     ]
    }
   ],
   "source": [
    "rows = 5\n",
    "num = rows\n",
    "for i in range(rows, 0, -1):\n",
    "    for j in range(0, i):\n",
    "        print(num, end=' ')\n",
    "    print(\"\")"
   ]
  },
  {
   "cell_type": "code",
   "execution_count": 17,
   "id": "7b5aff26-b988-4dd0-a14b-6c12247c812b",
   "metadata": {},
   "outputs": [],
   "source": [
    "#Ans7. reversing a while loop to display from 10 to 1"
   ]
  },
  {
   "cell_type": "code",
   "execution_count": 18,
   "id": "48d615cf-33c7-40d0-937d-8821e1f95fc1",
   "metadata": {},
   "outputs": [
    {
     "name": "stdout",
     "output_type": "stream",
     "text": [
      "10\n",
      "9\n",
      "8\n",
      "7\n",
      "6\n",
      "5\n",
      "4\n",
      "3\n",
      "2\n",
      "1\n"
     ]
    }
   ],
   "source": [
    "a = 10\n",
    "while a >= 1:\n",
    "    print(a)\n",
    "    a = a-1"
   ]
  },
  {
   "cell_type": "code",
   "execution_count": 19,
   "id": "57283992-2168-4ddd-a7c8-1ff9ad537a48",
   "metadata": {},
   "outputs": [],
   "source": [
    "#Ans 8. same as answer7"
   ]
  },
  {
   "cell_type": "code",
   "execution_count": null,
   "id": "3a85e385-a67c-48c4-b721-7b9e632aac73",
   "metadata": {},
   "outputs": [],
   "source": []
  }
 ],
 "metadata": {
  "kernelspec": {
   "display_name": "Python 3 (ipykernel)",
   "language": "python",
   "name": "python3"
  },
  "language_info": {
   "codemirror_mode": {
    "name": "ipython",
    "version": 3
   },
   "file_extension": ".py",
   "mimetype": "text/x-python",
   "name": "python",
   "nbconvert_exporter": "python",
   "pygments_lexer": "ipython3",
   "version": "3.10.8"
  }
 },
 "nbformat": 4,
 "nbformat_minor": 5
}
